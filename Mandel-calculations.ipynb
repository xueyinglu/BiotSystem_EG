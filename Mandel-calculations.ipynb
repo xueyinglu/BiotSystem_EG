{
 "cells": [
  {
   "cell_type": "code",
   "execution_count": 2,
   "metadata": {},
   "outputs": [],
   "source": [
    "import numpy as np"
   ]
  },
  {
   "cell_type": "code",
   "execution_count": 40,
   "metadata": {},
   "outputs": [],
   "source": [
    "# Bin Wang Data\n",
    "a = 100;\n",
    "b = 10;\n",
    "k = 1e-13;\n",
    "mu_f =1e-3;\n",
    "F = 5.94e8;\n",
    "E = 5.94e9;\n",
    "nu = 0.2;\n",
    "alpha = 1;\n",
    "c_0 = 1 / 1.65e10;\n"
   ]
  },
  {
   "cell_type": "code",
   "execution_count": 15,
   "metadata": {},
   "outputs": [],
   "source": [
    "# Phillips Phillips Data\n",
    "a = 1;\n",
    "b = 1;\n",
    "k = 1e-2;\n",
    "mu_f =1;\n",
    "F = 2e3;\n",
    "E = 1e4;\n",
    "nu = 0.2;\n",
    "alpha = 0.75;\n",
    "c_0 = 1e-4;"
   ]
  },
  {
   "cell_type": "code",
   "execution_count": 16,
   "metadata": {},
   "outputs": [],
   "source": [
    "lame_lambda = E * nu / (1 + nu) / (1 - 2 * nu);\n",
    "lame_mu = E / 2 / (1 + nu);\n",
    "K_bulk = lame_lambda + 2. / 3 * lame_mu;\n",
    "K_u = K_bulk + alpha * alpha / c_0;"
   ]
  },
  {
   "cell_type": "code",
   "execution_count": 18,
   "metadata": {},
   "outputs": [
    {
     "data": {
      "text/plain": [
       "40404.0404040404"
      ]
     },
     "execution_count": 18,
     "metadata": {},
     "output_type": "execute_result"
    }
   ],
   "source": [
    "M = K_bulk/(1-alpha)/(alpha - 0.2)\n",
    "M"
   ]
  },
  {
   "cell_type": "code",
   "execution_count": 21,
   "metadata": {},
   "outputs": [
    {
     "data": {
      "text/plain": [
       "4.242424242424242"
      ]
     },
     "execution_count": 21,
     "metadata": {},
     "output_type": "execute_result"
    }
   ],
   "source": [
    "K_dr = 0.5 + 2./3 * 0.125\n",
    "K_dr/(1-0.75)/(0.75-0.2)"
   ]
  },
  {
   "cell_type": "code",
   "execution_count": 22,
   "metadata": {},
   "outputs": [
    {
     "data": {
      "text/plain": [
       "9.333333333333334"
      ]
     },
     "execution_count": 22,
     "metadata": {},
     "output_type": "execute_result"
    }
   ],
   "source": [
    "28/3"
   ]
  },
  {
   "cell_type": "code",
   "execution_count": 12,
   "metadata": {},
   "outputs": [
    {
     "data": {
      "text/plain": [
       "5555.555555555556"
      ]
     },
     "execution_count": 12,
     "metadata": {},
     "output_type": "execute_result"
    }
   ],
   "source": [
    "K_bulk"
   ]
  },
  {
   "cell_type": "code",
   "execution_count": 13,
   "metadata": {},
   "outputs": [
    {
     "data": {
      "text/plain": [
       "15555.555555555555"
      ]
     },
     "execution_count": 13,
     "metadata": {},
     "output_type": "execute_result"
    }
   ],
   "source": [
    "K_u"
   ]
  },
  {
   "cell_type": "code",
   "execution_count": 80,
   "metadata": {},
   "outputs": [],
   "source": [
    "c_f = 1. / c_0 * k/mu_f * (K_bulk + 4. / 3 * lame_mu) / (K_u + 4. / 3 * lame_mu);"
   ]
  },
  {
   "cell_type": "code",
   "execution_count": 81,
   "metadata": {},
   "outputs": [],
   "source": [
    "B = alpha / c_0 / K_u"
   ]
  },
  {
   "cell_type": "code",
   "execution_count": 82,
   "metadata": {},
   "outputs": [
    {
     "data": {
      "text/plain": [
       "0.6428571428571429"
      ]
     },
     "execution_count": 82,
     "metadata": {},
     "output_type": "execute_result"
    }
   ],
   "source": [
    "B"
   ]
  },
  {
   "cell_type": "code",
   "execution_count": 83,
   "metadata": {},
   "outputs": [],
   "source": [
    "nu_u=(3*nu + alpha* B *(1-2*nu))/(3-alpha*B*(1-2*nu))"
   ]
  },
  {
   "cell_type": "code",
   "execution_count": 84,
   "metadata": {},
   "outputs": [
    {
     "data": {
      "text/plain": [
       "2777.777777777778"
      ]
     },
     "execution_count": 84,
     "metadata": {},
     "output_type": "execute_result"
    }
   ],
   "source": [
    "lame_lambda"
   ]
  },
  {
   "cell_type": "code",
   "execution_count": 85,
   "metadata": {},
   "outputs": [
    {
     "data": {
      "text/plain": [
       "4166.666666666667"
      ]
     },
     "execution_count": 85,
     "metadata": {},
     "output_type": "execute_result"
    }
   ],
   "source": [
    "lame_mu"
   ]
  },
  {
   "cell_type": "code",
   "execution_count": 86,
   "metadata": {},
   "outputs": [
    {
     "data": {
      "text/plain": [
       "5555.555555555556"
      ]
     },
     "execution_count": 86,
     "metadata": {},
     "output_type": "execute_result"
    }
   ],
   "source": [
    "K_bulk"
   ]
  },
  {
   "cell_type": "code",
   "execution_count": 87,
   "metadata": {},
   "outputs": [
    {
     "data": {
      "text/plain": [
       "1.7999999999999998"
      ]
     },
     "execution_count": 87,
     "metadata": {},
     "output_type": "execute_result"
    }
   ],
   "source": [
    "alpha*alpha/K_bulk/c_0"
   ]
  },
  {
   "cell_type": "code",
   "execution_count": 88,
   "metadata": {},
   "outputs": [
    {
     "data": {
      "text/plain": [
       "590.1639344262295"
      ]
     },
     "execution_count": 88,
     "metadata": {},
     "output_type": "execute_result"
    }
   ],
   "source": [
    "F*B*(1+nu_u)/3/a"
   ]
  },
  {
   "cell_type": "code",
   "execution_count": 89,
   "metadata": {},
   "outputs": [],
   "source": [
    "cc = (1 - nu) / (nu_u - nu)"
   ]
  },
  {
   "cell_type": "code",
   "execution_count": 90,
   "metadata": {},
   "outputs": [
    {
     "data": {
      "text/plain": [
       "0.3770491803278689"
      ]
     },
     "execution_count": 90,
     "metadata": {},
     "output_type": "execute_result"
    }
   ],
   "source": [
    "nu_u"
   ]
  },
  {
   "cell_type": "code",
   "execution_count": 91,
   "metadata": {},
   "outputs": [
    {
     "data": {
      "text/plain": [
       "4.518518518518518"
      ]
     },
     "execution_count": 91,
     "metadata": {},
     "output_type": "execute_result"
    }
   ],
   "source": [
    "cc"
   ]
  },
  {
   "cell_type": "markdown",
   "metadata": {},
   "source": [
    "# Rate of Convergence"
   ]
  },
  {
   "cell_type": "code",
   "execution_count": 8,
   "metadata": {},
   "outputs": [],
   "source": [
    "e_p_l2= np.array([5.8593e+01, 2.5606e+01, 5.7682e+00, 3.5995e+00])"
   ]
  },
  {
   "cell_type": "code",
   "execution_count": 9,
   "metadata": {},
   "outputs": [],
   "source": [
    "h = 1.0/np.array([16, 32, 64, 128])"
   ]
  },
  {
   "cell_type": "code",
   "execution_count": 10,
   "metadata": {},
   "outputs": [
    {
     "data": {
      "text/plain": [
       "array([1.42248685, 8.00960936])"
      ]
     },
     "execution_count": 10,
     "metadata": {},
     "output_type": "execute_result"
    }
   ],
   "source": [
    "np.polyfit(np.log(h),np.log(e_p_l2),1)"
   ]
  },
  {
   "cell_type": "code",
   "execution_count": 18,
   "metadata": {},
   "outputs": [
    {
     "name": "stdout",
     "output_type": "stream",
     "text": [
      "[0.0625  0.03125]\n",
      "[0.0625   0.03125  0.015625]\n",
      "[0.0625    0.03125   0.015625  0.0078125]\n"
     ]
    },
    {
     "data": {
      "text/plain": [
       "[array([1.19424642, 7.38176938]),\n",
       " array([1.67226761, 8.81757191]),\n",
       " array([1.42248685, 8.00960936])]"
      ]
     },
     "execution_count": 18,
     "metadata": {},
     "output_type": "execute_result"
    }
   ],
   "source": [
    "rate =[]\n",
    "for i in range(1, len(h)):\n",
    "    print(h[0:i+1])\n",
    "    rate.append(np.polyfit(np.log(h[0:i+1]),np.log(e_p_l2[0:i+1]),1))\n",
    "rate"
   ]
  },
  {
   "cell_type": "code",
   "execution_count": 16,
   "metadata": {},
   "outputs": [
    {
     "data": {
      "text/plain": [
       "0.0625"
      ]
     },
     "execution_count": 16,
     "metadata": {},
     "output_type": "execute_result"
    }
   ],
   "source": [
    "1/16"
   ]
  },
  {
   "cell_type": "code",
   "execution_count": 19,
   "metadata": {},
   "outputs": [],
   "source": [
    "e_u_energy = np.array([3.5313e+01, 2.9214e+01, 1.5817e+01, 8.2028e+00 ])"
   ]
  },
  {
   "cell_type": "code",
   "execution_count": 20,
   "metadata": {},
   "outputs": [
    {
     "data": {
      "text/plain": [
       "[array([0.27353948, 4.32266365]),\n",
       " array([0.5793617 , 5.24124282]),\n",
       " array([0.7203217 , 5.69720428])]"
      ]
     },
     "execution_count": 20,
     "metadata": {},
     "output_type": "execute_result"
    }
   ],
   "source": [
    "rate_u =[]\n",
    "for i in range(1, len(h)):\n",
    "    rate_u.append(np.polyfit(np.log(h[0:i+1]),np.log(e_u_energy[0:i+1]),1))\n",
    "rate_u"
   ]
  },
  {
   "cell_type": "code",
   "execution_count": 23,
   "metadata": {},
   "outputs": [
    {
     "name": "stdout",
     "output_type": "stream",
     "text": [
      "[  0.73362043 -25.92480034]\n",
      "[  0.80656095 -25.65515492]\n"
     ]
    }
   ],
   "source": [
    "eta_flow = np.array([4.333048e-13, 2.605864e-13, 1.416431e-13])\n",
    "eta_jump = np.array([5.671967e+12, 1.595890e+10, 5.053557e+08])\n",
    "h1= 1.0/np.array([32, 64, 128])\n",
    "# convergence of eta_flow\n",
    "for i in range(1, len(h1)):\n",
    "    print(np.polyfit(np.log(h1[0:i+1]),np.log(eta_flow[0:i+1]),1))"
   ]
  },
  {
   "cell_type": "code",
   "execution_count": 24,
   "metadata": {},
   "outputs": [
    {
     "name": "stdout",
     "output_type": "stream",
     "text": [
      "[ 8.47334411 58.73293   ]\n",
      "[ 6.72713116 52.2775562 ]\n"
     ]
    }
   ],
   "source": [
    "# convergence of eta_jump\n",
    "for i in range(1, len(h1)):\n",
    "    print(np.polyfit(np.log(h1[0:i+1]),np.log(eta_jump[0:i+1]),1))"
   ]
  },
  {
   "cell_type": "code",
   "execution_count": 25,
   "metadata": {},
   "outputs": [],
   "source": [
    "eta_partial_sigma = np.array([3.135475e+13, 2.544001e+13, 1.809411e+13])\n",
    "eta_sigma = np.array([2.019717e+13, 7.616620e+12, 2.317102e+12])\n",
    "eta_partial_u = np.array([2.477221e+15, 1.496559e+15, 8.401565e+14])\n",
    "eta_u = np.array([2.230781e+14, 5.567158e+13, 1.390609e+13])"
   ]
  },
  {
   "cell_type": "code",
   "execution_count": 26,
   "metadata": {},
   "outputs": [
    {
     "name": "stdout",
     "output_type": "stream",
     "text": [
      "[ 0.30158478 32.12160008]\n",
      "[ 0.39658193 32.47278414]\n"
     ]
    }
   ],
   "source": [
    "for i in range(1, len(h1)):\n",
    "    print(np.polyfit(np.log(h1[0:i+1]),np.log(eta_partial_sigma[0:i+1]),1))"
   ]
  },
  {
   "cell_type": "code",
   "execution_count": 27,
   "metadata": {},
   "outputs": [
    {
     "name": "stdout",
     "output_type": "stream",
     "text": [
      "[ 1.40693033 35.51261258]\n",
      "[ 1.56187985 36.08542762]\n"
     ]
    }
   ],
   "source": [
    "for i in range(1, len(h1)):\n",
    "    print(np.polyfit(np.log(h1[0:i+1]),np.log(eta_sigma[0:i+1]),1))"
   ]
  },
  {
   "cell_type": "code",
   "execution_count": 28,
   "metadata": {},
   "outputs": [
    {
     "name": "stdout",
     "output_type": "stream",
     "text": [
      "[ 0.72707342 37.96575823]\n",
      "[ 0.77999629 38.1614027 ]\n"
     ]
    }
   ],
   "source": [
    "for i in range(1, len(h1)):\n",
    "    print(np.polyfit(np.log(h1[0:i+1]),np.log(eta_partial_u[0:i+1]),1))"
   ]
  },
  {
   "cell_type": "code",
   "execution_count": 29,
   "metadata": {},
   "outputs": [
    {
     "name": "stdout",
     "output_type": "stream",
     "text": [
      "[ 2.00253595 39.97880381]\n",
      "[ 2.00188008 39.97637916]\n"
     ]
    }
   ],
   "source": [
    "for i in range(1, len(h1)):\n",
    "    print(np.polyfit(np.log(h1[0:i+1]),np.log(eta_u[0:i+1]),1))"
   ]
  },
  {
   "cell_type": "code",
   "execution_count": 30,
   "metadata": {},
   "outputs": [],
   "source": [
    "eta_tot =np.array([5.247337e+07, 3.982252e+07, 2.957833e+07])\n",
    "error = np.array([8.161212e+03, 7.448150e+03, 6.327309e+03])"
   ]
  },
  {
   "cell_type": "code",
   "execution_count": 31,
   "metadata": {},
   "outputs": [
    {
     "name": "stdout",
     "output_type": "stream",
     "text": [
      "[ 0.39800093 19.15518247]\n",
      "[ 0.41352242 19.2125621 ]\n"
     ]
    }
   ],
   "source": [
    "for i in range(1, len(h1)):\n",
    "    print(np.polyfit(np.log(h1[0:i+1]),np.log(eta_tot[0:i+1]),1))"
   ]
  },
  {
   "cell_type": "code",
   "execution_count": 32,
   "metadata": {},
   "outputs": [
    {
     "name": "stdout",
     "output_type": "stream",
     "text": [
      "[0.13190129 9.46428301]\n",
      "[0.18359568 9.65538606]\n"
     ]
    }
   ],
   "source": [
    "for i in range(1, len(h1)):\n",
    "    print(np.polyfit(np.log(h1[0:i+1]),np.log(error[0:i+1]),1))"
   ]
  },
  {
   "cell_type": "markdown",
   "metadata": {},
   "source": [
    "## A second groups of test"
   ]
  },
  {
   "cell_type": "code",
   "execution_count": 33,
   "metadata": {},
   "outputs": [],
   "source": [
    "e_l2_p = np.array([3.3728e-02, 4.3889e-03, 2.3790e-03])\n",
    "e_u_enery = np.array([3.0533e-02, 1.3173e-02, 6.6013e-03])\n",
    "h = 1./np.array([16, 32, 64])"
   ]
  },
  {
   "cell_type": "code",
   "execution_count": 35,
   "metadata": {},
   "outputs": [
    {
     "name": "stdout",
     "output_type": "stream",
     "text": [
      "[2.94201547 4.76757198]\n",
      "[1.9127598  1.67606076]\n"
     ]
    }
   ],
   "source": [
    "for i in range(1, len(h)):\n",
    "    print(np.polyfit(np.log(h[0:i+1]),np.log(e_l2_p[0:i+1]),1))"
   ]
  },
  {
   "cell_type": "code",
   "execution_count": 46,
   "metadata": {},
   "outputs": [
    {
     "name": "stdout",
     "output_type": "stream",
     "text": [
      "[0.27353948 4.32266365]\n",
      "[0.5793617  5.24124282]\n"
     ]
    }
   ],
   "source": [
    "for i in range(1, len(h)):\n",
    "    print(np.polyfit(np.log(h[0:i+1]),np.log(e_u_energy[0:i+1]),1))"
   ]
  },
  {
   "cell_type": "code",
   "execution_count": 37,
   "metadata": {},
   "outputs": [],
   "source": [
    "eta_flow = np.array([6.1444e-02, 2.8578e-02, 1.2134e-02])"
   ]
  },
  {
   "cell_type": "code",
   "execution_count": 38,
   "metadata": {},
   "outputs": [
    {
     "name": "stdout",
     "output_type": "stream",
     "text": [
      "[1.10436718 0.27232691]\n",
      "[1.17010846 0.46978989]\n"
     ]
    }
   ],
   "source": [
    "for i in range(1, len(h)):\n",
    "    print(np.polyfit(np.log(h[0:i+1]),np.log(eta_flow[0:i+1]),1))"
   ]
  },
  {
   "cell_type": "code",
   "execution_count": 39,
   "metadata": {},
   "outputs": [
    {
     "name": "stdout",
     "output_type": "stream",
     "text": [
      "[3.4024813  9.67317051]\n",
      "[2.99237843 8.44137004]\n"
     ]
    }
   ],
   "source": [
    "eta_jump = np.array([1.2706e+00, 1.2016e-01, 2.0064e-02])\n",
    "for i in range(1, len(h)):\n",
    "    print(np.polyfit(np.log(h[0:i+1]),np.log(eta_jump[0:i+1]),1))"
   ]
  },
  {
   "cell_type": "code",
   "execution_count": 40,
   "metadata": {},
   "outputs": [
    {
     "name": "stdout",
     "output_type": "stream",
     "text": [
      "[ 0.96853517 14.3874068 ]\n",
      "[ 1.07064807 14.69411698]\n"
     ]
    }
   ],
   "source": [
    "eta_partial_sigma = np.array([ 1.2082e+05, 6.1742e+04, 2.7387e+04])\n",
    "for i in range(1, len(h)):\n",
    "    print(np.polyfit(np.log(h[0:i+1]),np.log(eta_partial_sigma[0:i+1]),1))"
   ]
  },
  {
   "cell_type": "code",
   "execution_count": 41,
   "metadata": {},
   "outputs": [
    {
     "name": "stdout",
     "output_type": "stream",
     "text": [
      "[ 1.99134782 12.75810364]\n",
      "[ 1.98440378 12.73724625]\n"
     ]
    }
   ],
   "source": [
    "eta_sigma = np.array([1.3898e+03 , 3.4954e+02, 8.8761e+01])\n",
    "for i in range(1, len(h)):\n",
    "    print(np.polyfit(np.log(h[0:i+1]),np.log(eta_sigma[0:i+1]),1))"
   ]
  },
  {
   "cell_type": "code",
   "execution_count": 42,
   "metadata": {},
   "outputs": [
    {
     "name": "stdout",
     "output_type": "stream",
     "text": [
      "[ 1.33695287 16.98192208]\n",
      "[ 1.51258925 17.50947014]\n"
     ]
    }
   ],
   "source": [
    "eta_partial_u = np.array([5.8251e+05, 2.3059e+05, 7.1554e+04])\n",
    "for i in range(1, len(h)):\n",
    "    print(np.polyfit(np.log(h[0:i+1]),np.log(eta_partial_u[0:i+1]),1))"
   ]
  },
  {
   "cell_type": "code",
   "execution_count": 43,
   "metadata": {},
   "outputs": [
    {
     "name": "stdout",
     "output_type": "stream",
     "text": [
      "[ 2.04393637 12.97547076]\n",
      "[ 2.02352801 12.91417143]\n"
     ]
    }
   ],
   "source": [
    "eta_u =np.array([1.4929e+03, 3.6203e+02, 9.0312e+01])\n",
    "for i in range(1, len(h)):\n",
    "    print(np.polyfit(np.log(h[0:i+1]),np.log(eta_u[0:i+1]),1))"
   ]
  },
  {
   "cell_type": "code",
   "execution_count": 44,
   "metadata": {},
   "outputs": [
    {
     "name": "stdout",
     "output_type": "stream",
     "text": [
      "[0.63454297 8.49316895]\n",
      "[0.70822582 8.71448555]\n"
     ]
    }
   ],
   "source": [
    "eta_tot = np.array([8.4037e+02, 5.4132e+02, 3.1483e+02])\n",
    "for i in range(1, len(h)):\n",
    "    print(np.polyfit(np.log(h[0:i+1]),np.log(eta_tot[0:i+1]),1))"
   ]
  },
  {
   "cell_type": "code",
   "execution_count": 45,
   "metadata": {
    "scrolled": false
   },
   "outputs": [
    {
     "name": "stdout",
     "output_type": "stream",
     "text": [
      "[1.59829658 1.2340601 ]\n",
      "[1.29583189 0.32556573]\n"
     ]
    }
   ],
   "source": [
    "error = np.array([4.0870e-02, 1.3498e-02, 6.7801e-03])\n",
    "for i in range(1, len(h)):\n",
    "    print(np.polyfit(np.log(h[0:i+1]),np.log(error[0:i+1]),1))"
   ]
  },
  {
   "cell_type": "markdown",
   "metadata": {},
   "source": [
    "# Third groups of tests\n",
    "time interval [0.01,0.0101] with $\\Delta t = $1e-6"
   ]
  },
  {
   "cell_type": "code",
   "execution_count": 10,
   "metadata": {},
   "outputs": [],
   "source": [
    "e_l2_p = np.array([4.0447e-04, 1.0507e-04, 3.4714e-05, 1.5875e-05])\n",
    "e_u_energy = np.array([ 1.2873e-02 , 6.4361e-03 , 3.2180e-03, 1.6090e-03 ])\n",
    "h = 1./np.array([32, 64, 128,258])"
   ]
  },
  {
   "cell_type": "code",
   "execution_count": 11,
   "metadata": {},
   "outputs": [
    {
     "name": "stdout",
     "output_type": "stream",
     "text": [
      "[ 1.9446819  -1.07317912]\n",
      "[ 1.77122159 -1.71442457]\n",
      "[ 1.5554166  -2.56234911]\n"
     ]
    }
   ],
   "source": [
    "for i in range(1, len(h)):\n",
    "    print(np.polyfit(np.log(h[0:i+1]),np.log(e_l2_p[0:i+1]),1))"
   ]
  },
  {
   "cell_type": "code",
   "execution_count": 12,
   "metadata": {},
   "outputs": [
    {
     "name": "stdout",
     "output_type": "stream",
     "text": [
      "[ 1.00008966 -0.88657654]\n",
      "[ 1.00005604 -0.88670084]\n",
      "[ 0.99667134 -0.89999973]\n"
     ]
    }
   ],
   "source": [
    "for i in range(1, len(h)):\n",
    "    print(np.polyfit(np.log(h[0:i+1]),np.log(e_u_energy[0:i+1]),1))"
   ]
  },
  {
   "cell_type": "code",
   "execution_count": 13,
   "metadata": {},
   "outputs": [
    {
     "name": "stdout",
     "output_type": "stream",
     "text": [
      "[ 2.04401869 -9.79789387]\n",
      "[  1.73175788 -10.95225495]\n",
      "[  1.40673579 -12.22930699]\n"
     ]
    }
   ],
   "source": [
    "eta_alg = np.array([4.6588e-08,  1.1297e-08,  4.2233e-09 ,2.4755e-09])\n",
    "for i in range(1, len(h)):\n",
    "    print(np.polyfit(np.log(h[0:i+1]),np.log(eta_alg[0:i+1]),1))"
   ]
  },
  {
   "cell_type": "code",
   "execution_count": 14,
   "metadata": {},
   "outputs": [
    {
     "name": "stdout",
     "output_type": "stream",
     "text": [
      "[ 1.97579945 -5.50983147]\n",
      "[ 1.98185121 -5.48745943]\n",
      "[ 1.97940659 -5.49706465]\n"
     ]
    }
   ],
   "source": [
    "eta_flow = np.array([4.2977e-06, 1.0926e-06, 2.7545e-07, 6.9153e-08])\n",
    "for i in range(1, len(h)):\n",
    "    print(np.polyfit(np.log(h[0:i+1]),np.log(eta_flow[0:i+1]),1))"
   ]
  },
  {
   "cell_type": "code",
   "execution_count": 15,
   "metadata": {},
   "outputs": [
    {
     "name": "stdout",
     "output_type": "stream",
     "text": [
      "[ 2.9069186  -1.18522268]\n",
      "[ 2.74298946 -1.79123346]\n",
      "[ 2.48587764 -2.80145764]\n"
     ]
    }
   ],
   "source": [
    "eta_jump = np.array([1.2880e-05, 1.7173e-06, 2.8739e-07,  7.3336e-08])\n",
    "for i in range(1, len(h)):\n",
    "    print(np.polyfit(np.log(h[0:i+1]),np.log(eta_jump[0:i+1]),1))"
   ]
  },
  {
   "cell_type": "code",
   "execution_count": 16,
   "metadata": {},
   "outputs": [
    {
     "name": "stdout",
     "output_type": "stream",
     "text": [
      "[1.97572993 2.89534614]\n",
      "[1.98196834 2.91840819]\n",
      "[1.97956096 2.90894932]\n"
     ]
    }
   ],
   "source": [
    "eta_partial_sigma = np.array([ 1.9216e-02, 4.8855e-03, 1.2314e-03, 3.0911e-04])\n",
    "for i in range(1, len(h)):\n",
    "    print(np.polyfit(np.log(h[0:i+1]),np.log(eta_partial_sigma[0:i+1]),1))"
   ]
  },
  {
   "cell_type": "code",
   "execution_count": 17,
   "metadata": {},
   "outputs": [
    {
     "name": "stdout",
     "output_type": "stream",
     "text": [
      "[ 1.97413163 12.6744342 ]\n",
      "[ 1.98074846 12.69889522]\n",
      "[ 1.97864349 12.69062454]\n"
     ]
    }
   ],
   "source": [
    "eta_sigma = np.array([3.4125e+02, 8.6856e+01,  2.1905e+01 ,  5.5000e+00 ])\n",
    "for i in range(1, len(h)):\n",
    "    print(np.polyfit(np.log(h[0:i+1]),np.log(eta_sigma[0:i+1]),1))"
   ]
  },
  {
   "cell_type": "code",
   "execution_count": 18,
   "metadata": {},
   "outputs": [
    {
     "name": "stdout",
     "output_type": "stream",
     "text": [
      "[2.01298217 3.07131788]\n",
      "[2.00895307 3.05642317]\n",
      "[1.99950555 3.0193027 ]\n"
     ]
    }
   ],
   "source": [
    "eta_partial_u = np.array([2.0138e-02, 4.9894e-03, 1.2431e-03, 3.1049e-04 ])\n",
    "for i in range(1, len(h)):\n",
    "    print(np.polyfit(np.log(h[0:i+1]),np.log(eta_partial_u[0:i+1]),1))"
   ]
  },
  {
   "cell_type": "code",
   "execution_count": 19,
   "metadata": {},
   "outputs": [
    {
     "name": "stdout",
     "output_type": "stream",
     "text": [
      "[ 1.99979593 12.79850657]\n",
      "[ 1.9998898  12.79885361]\n",
      "[ 1.99319603 12.77255295]\n"
     ]
    }
   ],
   "source": [
    "eta_u =np.array([3.5345e+02, 8.8375e+01, 2.2094e+01 , 5.5236e+00 ])\n",
    "for i in range(1, len(h)):\n",
    "    print(np.polyfit(np.log(h[0:i+1]),np.log(eta_u[0:i+1]),1))"
   ]
  },
  {
   "cell_type": "code",
   "execution_count": 20,
   "metadata": {},
   "outputs": [
    {
     "name": "stdout",
     "output_type": "stream",
     "text": [
      "[0.99356388 6.71519766]\n",
      "[0.99520875 6.7212784 ]\n",
      "[0.99299456 6.71257858]\n"
     ]
    }
   ],
   "source": [
    "eta_tot = np.array([2.635789e+01, 1.323787e+01, 6.633386e+00, 3.320270e+00])\n",
    "for i in range(1, len(h)):\n",
    "    print(np.polyfit(np.log(h[0:i+1]),np.log(eta_tot[0:i+1]),1))"
   ]
  },
  {
   "cell_type": "code",
   "execution_count": 21,
   "metadata": {
    "scrolled": true
   },
   "outputs": [
    {
     "name": "stdout",
     "output_type": "stream",
     "text": [
      "[ 0.99958017 -0.86061032]\n",
      "[ 0.99922527 -0.86192229]\n",
      "[ 0.99536708 -0.87708163]\n"
     ]
    }
   ],
   "source": [
    "error = np.array([1.323499e-02, 6.619421e-03, 3.312303e-03, 1.658809e-03  ])\n",
    "for i in range(1, len(h)):\n",
    "    print(np.polyfit(np.log(h[0:i+1]),np.log(error[0:i+1]),1))"
   ]
  },
  {
   "cell_type": "markdown",
   "metadata": {},
   "source": [
    "# Convergence under time refinement\n",
    "Time interval [0.01, 0.02], mesh 256x256"
   ]
  },
  {
   "cell_type": "code",
   "execution_count": 1,
   "metadata": {},
   "outputs": [
    {
     "ename": "NameError",
     "evalue": "name 'np' is not defined",
     "output_type": "error",
     "traceback": [
      "\u001b[0;31m---------------------------------------------------------------------------\u001b[0m",
      "\u001b[0;31mNameError\u001b[0m                                 Traceback (most recent call last)",
      "\u001b[0;32m<ipython-input-1-117852e220a5>\u001b[0m in \u001b[0;36m<module>\u001b[0;34m()\u001b[0m\n\u001b[0;32m----> 1\u001b[0;31m \u001b[0me_l2_p\u001b[0m \u001b[0;34m=\u001b[0m \u001b[0mnp\u001b[0m\u001b[0;34m.\u001b[0m\u001b[0marray\u001b[0m\u001b[0;34m(\u001b[0m\u001b[0;34m[\u001b[0m\u001b[0;36m4.0527e-02\u001b[0m\u001b[0;34m,\u001b[0m  \u001b[0;36m2.0760e-02\u001b[0m\u001b[0;34m,\u001b[0m \u001b[0;36m1.0508e-02\u001b[0m\u001b[0;34m,\u001b[0m \u001b[0;36m5.2867e-03\u001b[0m\u001b[0;34m]\u001b[0m\u001b[0;34m)\u001b[0m\u001b[0;34m\u001b[0m\u001b[0;34m\u001b[0m\u001b[0m\n\u001b[0m\u001b[1;32m      2\u001b[0m \u001b[0me_u_energy\u001b[0m \u001b[0;34m=\u001b[0m \u001b[0mnp\u001b[0m\u001b[0;34m.\u001b[0m\u001b[0marray\u001b[0m\u001b[0;34m(\u001b[0m\u001b[0;34m[\u001b[0m\u001b[0;36m1.9748e-02\u001b[0m\u001b[0;34m,\u001b[0m \u001b[0;36m1.0104e-02\u001b[0m\u001b[0;34m,\u001b[0m \u001b[0;36m5.1113e-03\u001b[0m\u001b[0;34m,\u001b[0m \u001b[0;36m2.5708e-0\u001b[0m\u001b[0;34m]\u001b[0m\u001b[0;34m)\u001b[0m\u001b[0;34m\u001b[0m\u001b[0;34m\u001b[0m\u001b[0m\n\u001b[1;32m      3\u001b[0m \u001b[0mt\u001b[0m \u001b[0;34m=\u001b[0m \u001b[0mnp\u001b[0m\u001b[0;34m.\u001b[0m\u001b[0marray\u001b[0m\u001b[0;34m(\u001b[0m\u001b[0;34m[\u001b[0m\u001b[0;36m1e-3\u001b[0m\u001b[0;34m,\u001b[0m \u001b[0;36m5e-4\u001b[0m\u001b[0;34m,\u001b[0m \u001b[0;36m2.5e-4\u001b[0m\u001b[0;34m,\u001b[0m \u001b[0;36m1.25e-4\u001b[0m\u001b[0;34m]\u001b[0m\u001b[0;34m)\u001b[0m\u001b[0;34m\u001b[0m\u001b[0;34m\u001b[0m\u001b[0m\n",
      "\u001b[0;31mNameError\u001b[0m: name 'np' is not defined"
     ]
    }
   ],
   "source": [
    "t=np.array([1e-3,5e-4,2e-4,1e-4])"
   ]
  },
  {
   "cell_type": "code",
   "execution_count": 5,
   "metadata": {},
   "outputs": [
    {
     "name": "stdout",
     "output_type": "stream",
     "text": [
      "[0.96421933 3.42923781]\n",
      "[0.96832564 3.45863581]\n",
      "[0.96665213 3.44626477]\n"
     ]
    }
   ],
   "source": [
    "for i in range(1, len(t)):\n",
    "    print(np.polyfit(np.log(t[0:i+1]),np.log(e_l2_p[0:i+1]),1))"
   ]
  },
  {
   "cell_type": "code",
   "execution_count": 6,
   "metadata": {},
   "outputs": [
    {
     "name": "stdout",
     "output_type": "stream",
     "text": [
      "[0.96234101 2.67089463]\n",
      "[0.96211057 2.66924486]\n",
      "[0.95148205 2.59067627]\n"
     ]
    }
   ],
   "source": [
    "for i in range(1, len(t)):\n",
    "    print(np.polyfit(np.log(t[0:i+1]),np.log(e_u_energy[0:i+1]),1))"
   ]
  },
  {
   "cell_type": "code",
   "execution_count": 8,
   "metadata": {},
   "outputs": [
    {
     "name": "stdout",
     "output_type": "stream",
     "text": [
      "[1.94677187 9.12368851]\n",
      "[1.96365046 9.24452602]\n",
      "[1.97141798 9.30194537]\n"
     ]
    }
   ],
   "source": [
    "eta_time = np.array([1.3245e-02, 3.4357e-03, 5.6230e-04, 1.4166e-04 ])\n",
    "for i in range(1, len(t)):\n",
    "    print(np.polyfit(np.log(t[0:i+1]),np.log(eta_time[0:i+1]),1))"
   ]
  },
  {
   "cell_type": "code",
   "execution_count": 9,
   "metadata": {},
   "outputs": [
    {
     "name": "stdout",
     "output_type": "stream",
     "text": [
      "[0.96848922 3.609232  ]\n",
      "[0.95298497 3.49823369]\n",
      "[0.91962682 3.25164207]\n"
     ]
    }
   ],
   "source": [
    "eta_tot = np.array([4.5920e-02, 2.3467e-02, 9.8965e-03,  5.5714e-03 ])\n",
    "for i in range(1, len(t)):\n",
    "    print(np.polyfit(np.log(t[0:i+1]),np.log(eta_tot[0:i+1]),1))"
   ]
  },
  {
   "cell_type": "markdown",
   "metadata": {},
   "source": [
    "# Convergence under simutaneously space and time refinement"
   ]
  },
  {
   "cell_type": "code",
   "execution_count": 6,
   "metadata": {},
   "outputs": [],
   "source": [
    "e_l2_p = np.array([4.0527e-02,  2.0760e-02, 1.0508e-02, 5.2867e-03])\n",
    "e_u_energy = np.array([1.9748e-02, 1.0104e-02, 5.1113e-03, 2.5708e-03])\n",
    "t = np.array([1e-3, 5e-4, 2.5e-4, 1.25e-4])"
   ]
  },
  {
   "cell_type": "code",
   "execution_count": 7,
   "metadata": {},
   "outputs": [
    {
     "name": "stdout",
     "output_type": "stream",
     "text": [
      "[0.96507694 3.46072847]\n",
      "[0.97369764 3.52226995]\n",
      "[0.97976504 3.5669858 ]\n"
     ]
    }
   ],
   "source": [
    "for i in range(1, len(t)):\n",
    "    print(np.polyfit(np.log(t[0:i+1]),np.log(e_l2_p[0:i+1]),1))"
   ]
  },
  {
   "cell_type": "code",
   "execution_count": 8,
   "metadata": {},
   "outputs": [
    {
     "name": "stdout",
     "output_type": "stream",
     "text": [
      "[0.96678001 2.75357663]\n",
      "[0.97497219 2.81205901]\n",
      "[0.98074162 2.85457886]\n"
     ]
    }
   ],
   "source": [
    "for i in range(1, len(t)):\n",
    "    print(np.polyfit(np.log(t[0:i+1]),np.log(e_u_energy[0:i+1]),1))"
   ]
  },
  {
   "cell_type": "code",
   "execution_count": 9,
   "metadata": {},
   "outputs": [
    {
     "name": "stdout",
     "output_type": "stream",
     "text": [
      "[1.94492886 9.10868989]\n",
      "[1.95839129 9.2047955 ]\n",
      "[1.96795754 9.27529736]\n"
     ]
    }
   ],
   "source": [
    "eta_time = np.array([1.3215e-02, 3.4323e-03, 8.7498e-04, 2.2091e-04])\n",
    "for i in range(1, len(t)):\n",
    "    print(np.polyfit(np.log(t[0:i+1]),np.log(eta_time[0:i+1]),1))"
   ]
  },
  {
   "cell_type": "code",
   "execution_count": 10,
   "metadata": {},
   "outputs": [
    {
     "name": "stdout",
     "output_type": "stream",
     "text": [
      "[1.93278728 4.67380092]\n",
      "[1.94947674 4.79294367]\n",
      "[1.96123963 4.8796345 ]\n"
     ]
    }
   ],
   "source": [
    "eta_flow = np.array([ 1.7039e-04, 4.4629e-05, 1.1422e-05, 2.8891e-06])\n",
    "for i in range(1, len(t)):\n",
    "    print(np.polyfit(np.log(t[0:i+1]),np.log(eta_flow[0:i+1]),1))"
   ]
  },
  {
   "cell_type": "code",
   "execution_count": 11,
   "metadata": {},
   "outputs": [
    {
     "name": "stdout",
     "output_type": "stream",
     "text": [
      "[ 1.45897012 -0.44882551]\n",
      "[ 1.30744341 -1.53054505]\n",
      "[ 1.2132653  -2.22462393]\n"
     ]
    }
   ],
   "source": [
    "eta_jump = np.array([2.6802e-05, 9.7493e-06, 4.3753e-06, 2.1219e-06])\n",
    "for i in range(1, len(t)):\n",
    "    print(np.polyfit(np.log(t[0:i+1]),np.log(eta_jump[0:i+1]),1))"
   ]
  },
  {
   "cell_type": "code",
   "execution_count": 12,
   "metadata": {},
   "outputs": [
    {
     "name": "stdout",
     "output_type": "stream",
     "text": [
      "[ 1.92744873 17.55303434]\n",
      "[ 1.94548676 17.68180431]\n",
      "[ 1.95815865 17.77519427]\n"
     ]
    }
   ],
   "source": [
    "eta_partial_sigma = np.array([6.9317e+01, 1.8223e+01, 4.6724e+00, 1.1830e+00])\n",
    "for i in range(1, len(t)):\n",
    "    print(np.polyfit(np.log(t[0:i+1]),np.log(eta_partial_sigma[0:i+1]),1))"
   ]
  },
  {
   "cell_type": "code",
   "execution_count": 13,
   "metadata": {},
   "outputs": [
    {
     "name": "stdout",
     "output_type": "stream",
     "text": [
      "[ 2.13118727 18.68792821]\n",
      "[ 2.09981072 18.46393718]\n",
      "[ 2.07719997 18.29729928]\n"
     ]
    }
   ],
   "source": [
    "eta_E_sigma = np.array([ 5.2784e+01, 1.2049e+01, 2.8727e+00 ,  7.0101e-01])\n",
    "for i in range(1, len(t)):\n",
    "    print(np.polyfit(np.log(t[0:i+1]),np.log(eta_E_sigma[0:i+1]),1))"
   ]
  },
  {
   "cell_type": "code",
   "execution_count": 14,
   "metadata": {},
   "outputs": [
    {
     "name": "stdout",
     "output_type": "stream",
     "text": [
      "[ 1.95320707 17.76617486]\n",
      "[ 1.96467379 17.8480335 ]\n",
      "[ 1.97279678 17.90789876]\n"
     ]
    }
   ],
   "source": [
    "eta_partial_u = np.array([ 7.1801e+01, 1.8542e+01, 4.7128e+00, 1.1881e+00])\n",
    "for i in range(1, len(t)):\n",
    "    print(np.polyfit(np.log(t[0:i+1]),np.log(eta_partial_u[0:i+1]),1))"
   ]
  },
  {
   "cell_type": "code",
   "execution_count": 15,
   "metadata": {},
   "outputs": [
    {
     "name": "stdout",
     "output_type": "stream",
     "text": [
      "[ 2.15690808 18.90070826]\n",
      "[ 2.1189344  18.62962165]\n",
      "[ 2.09179282 18.42959214]\n"
     ]
    }
   ],
   "source": [
    "eta_E_u = np.array([5.4670e+01, 1.2259e+01, 2.8975e+00, 7.0402e-01 ])\n",
    "for i in range(1, len(t)):\n",
    "    print(np.polyfit(np.log(t[0:i+1]),np.log(eta_E_u[0:i+1]),1))"
   ]
  },
  {
   "cell_type": "code",
   "execution_count": 16,
   "metadata": {},
   "outputs": [
    {
     "name": "stdout",
     "output_type": "stream",
     "text": [
      "[1.01257194 9.75251834]\n",
      "[1.00895844 9.72672223]\n",
      "[1.00663279 9.70958251]\n"
     ]
    }
   ],
   "source": [
    "eta_tot = np.array([1.5767e+01,  7.8151e+00, 3.8931e+00, 1.9433e+00])\n",
    "for i in range(1, len(t)):\n",
    "    print(np.polyfit(np.log(t[0:i+1]),np.log(eta_tot[0:i+1]),1))"
   ]
  },
  {
   "cell_type": "code",
   "execution_count": 17,
   "metadata": {},
   "outputs": [
    {
     "name": "stdout",
     "output_type": "stream",
     "text": [
      "[0.974024   3.75176213]\n",
      "[0.97918697 3.78861955]\n",
      "[0.98220786 3.81088306]\n"
     ]
    }
   ],
   "source": [
    "error = np.array([5.0968e-02, 2.5947e-02 , 1.3115e-02, 6.6144e-03])\n",
    "for i in range(1, len(t)):\n",
    "    print(np.polyfit(np.log(t[0:i+1]),np.log(error[0:i+1]),1))"
   ]
  },
  {
   "cell_type": "code",
   "execution_count": null,
   "metadata": {},
   "outputs": [],
   "source": []
  }
 ],
 "metadata": {
  "kernelspec": {
   "display_name": "Python 3",
   "language": "python",
   "name": "python3"
  },
  "language_info": {
   "codemirror_mode": {
    "name": "ipython",
    "version": 3
   },
   "file_extension": ".py",
   "mimetype": "text/x-python",
   "name": "python",
   "nbconvert_exporter": "python",
   "pygments_lexer": "ipython3",
   "version": "3.7.2"
  }
 },
 "nbformat": 4,
 "nbformat_minor": 2
}
